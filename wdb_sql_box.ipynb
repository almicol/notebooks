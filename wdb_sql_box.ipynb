{
 "cells": [
  {
   "cell_type": "code",
   "execution_count": 6,
   "metadata": {},
   "outputs": [],
   "source": [
    "import astropy.units as u\n",
    "import math\n",
    "from astropy import coordinates"
   ]
  },
  {
   "cell_type": "code",
   "execution_count": 7,
   "metadata": {},
   "outputs": [
    {
     "data": {
      "text/plain": [
       "<SkyCoord (ICRS): (ra, dec) in deg\n",
       "    (202.484167, 47.230556)>"
      ]
     },
     "execution_count": 7,
     "metadata": {},
     "output_type": "execute_result"
    }
   ],
   "source": [
    "# Position of M51 - https://ned.ipac.caltech.edu/byname?objname=M51&hconst=67.8&omegam=0.308&omegav=0.692&wmap=4&corr_z=1\n",
    "ra = 202.484167 *u.deg\n",
    "dec = 47.230556 *u.deg\n",
    "coords = coordinates.SkyCoord(ra, dec, frame='icrs')\n",
    "coords"
   ]
  },
  {
   "cell_type": "code",
   "execution_count": 8,
   "metadata": {},
   "outputs": [
    {
     "data": {
      "text/plain": [
       "'13h29m56.20008s +47d13m50.0016s'"
      ]
     },
     "execution_count": 8,
     "metadata": {},
     "output_type": "execute_result"
    }
   ],
   "source": [
    "coords.to_string('hmsdms') # Print string in hmsdms format"
   ]
  },
  {
   "cell_type": "code",
   "execution_count": 9,
   "metadata": {},
   "outputs": [
    {
     "data": {
      "text/plain": [
       "(202.484167, 47.230556)"
      ]
     },
     "execution_count": 9,
     "metadata": {},
     "output_type": "execute_result"
    }
   ],
   "source": [
    "coords.ra.value, coords.dec.value # Print as floats"
   ]
  },
  {
   "cell_type": "code",
   "execution_count": 10,
   "metadata": {},
   "outputs": [
    {
     "data": {
      "text/plain": [
       "<SkyCoord (FK5: equinox=J2000.000): (ra, dec) in deg\n",
       "    (202.48416679, 47.23055578)>"
      ]
     },
     "execution_count": 10,
     "metadata": {},
     "output_type": "execute_result"
    }
   ],
   "source": [
    "coords.fk5 # Print in FK5 format"
   ]
  },
  {
   "cell_type": "code",
   "execution_count": 11,
   "metadata": {},
   "outputs": [
    {
     "data": {
      "text/plain": [
       "<SkyCoord (Galactic): (l, b) in deg\n",
       "    (104.86604847, 68.52442261)>"
      ]
     },
     "execution_count": 11,
     "metadata": {},
     "output_type": "execute_result"
    }
   ],
   "source": [
    "coords.galactic # Print in Galactic format"
   ]
  },
  {
   "cell_type": "code",
   "execution_count": 12,
   "metadata": {},
   "outputs": [
    {
     "name": "stdout",
     "output_type": "stream",
     "text": [
      "Box original: 01 24 03\n",
      "Box in degrees: 1.4008333333333332 deg\n"
     ]
    }
   ],
   "source": [
    "box = '01 24 03' # Define box\n",
    "box_deg = box.split(' ')\n",
    "box_deg = [float(i) for i in box_deg]\n",
    "box_deg = box_deg[0] *u.deg + box_deg[1] *u.arcmin + box_deg[2] *u.arcsecond\n",
    "print('Box original:', box)\n",
    "print('Box in degrees:', box_deg)"
   ]
  },
  {
   "cell_type": "code",
   "execution_count": 73,
   "metadata": {},
   "outputs": [],
   "source": [
    "# def wdb_sql_box explained:\n",
    "# coords sets the ra0 and dec0 of the point T (the target) around which a \"box\" is drawn\n",
    "# the box in wdb is defined as a range in ra and in dec, \n",
    "# that is, it is the intersection between:\n",
    "#    a spherical lune between two great circles passing through the equatorial poles, \n",
    "#    of amplitude equal to box_deg at the position of T, wand hose central meridian is at ra=ra0 \n",
    "# and \n",
    "#    the spherical surface between two lines of equal declinations (parallels) separated by the box_deg angular distance, \n",
    "#    and centered onto dec=dec0\n",
    "#\n",
    "# Once projected onto the plane x=RA and y=DEC such box is expressed by the simple condition:\n",
    "# ra between ra_min and ra_max and dec between dec_min and dec_max.\n",
    "#\n",
    "# For the declination it is easy to compute: dec_min = dec0 - box_deg/2  and dec_max = dec0 + box_deg/2\n",
    "#\n",
    "# For the right ascension, an approximation is used, valid for small box_deg values: \n",
    "# the triangle with sides, (a) the ra0 meridian from T to the closest pole (P), \n",
    "#                          (b) the parallel from T=(ra0,dec0) to W=(ra0+ra_max,dec0)\n",
    "#                          (c) the meridian from W to P\n",
    "# is approximated to be a spherical triangle (it is not, as a parallel is not a great circle).\n",
    "# With this approximation, using the sin theorem it is true that: sin(90-dec0) / sin(90) = sin( box_deg/2 ) / sin( delta_alpha/2 )\n",
    "# where delta_alpha/2 is half of the amplitude of the lune at the equator.\n",
    "#\n",
    "# This gives: delta_alpha/2 = asin( sin(box_size/2) / cos(dec0) )\n",
    "# The box is therefore defined with the constraint: RA between ra0 - delta_alpha/2 and ra0 + delta_alpha/2 AND DEC between dec0 - box_deg/2 and dec0 + box_deg/2\n",
    "# or said in different words: \n",
    "#      dec_min = dec0 - box_deg/2      dec_max = dec0 + box_deg/2\n",
    "#      ra_min  = ra0  + delta_alpha/2  ra_max  = ra0  + delta_alpha/2\n",
    "#      with half_delta_alpha = asin( sin(box_size/2) / cos(dec0) )\n",
    "#\n",
    "# BUT: if the box extends over the closest pole, or over the meridian ra=0, the above constraint miserably fails.\n",
    "# It is important to protect against this, and this is taken care within the function.\n",
    "#\n",
    "def wdb_sql_box(coords, box_deg):\n",
    "    \n",
    "    dec_min = coords.dec.value - box_deg.value/2\n",
    "    dec_max = coords.dec.value + box_deg.value/2\n",
    "\n",
    "    no_ra_range = 0 # if = 1 the condition in ra is to be dropped, as the box goes over the pole\n",
    "    if dec_min <= -90:\n",
    "        dec_min = -90\n",
    "        no_ra_range = 1\n",
    "    if dec_max >= 90:\n",
    "        dec_max = 90\n",
    "        no_ra_range = 1\n",
    "\n",
    "    if no_ra_range:\n",
    "        ra_min = 0\n",
    "        ra_max = 360\n",
    "    else:\n",
    "        sin_half_delta_alpha = math.sin(box_deg.value/2*math.pi/180.)/math.cos(coords.dec.value*math.pi/180.)\n",
    "        # notice that here dec cannot be +/- 90, hence the division by cos(dec) will never explode\n",
    "        # though better to protect against floating point errors:\n",
    "        if sin_half_delta_alpha > 1.0:\n",
    "            sin_half_delta_alpha = 1.0\n",
    "        if sin_half_delta_alpha < -1.0:\n",
    "            sin_half_delta_alpha = -1.0\n",
    "            \n",
    "        half_delta_alpha = math.asin( sin_half_delta_alpha ) * 180./math.pi\n",
    "        ra_min  = coords.ra.value  - half_delta_alpha\n",
    "        ra_max  = coords.ra.value  + half_delta_alpha\n",
    "        if ra_min < 0:\n",
    "            ra_min += 360\n",
    "        if ra_max > 360:\n",
    "            ra_max -= 360\n",
    "\n",
    "    if ra_min > ra_max:\n",
    "        ra_constraint  = f'(RA >= {ra_min} OR RA <= {ra_max})'\n",
    "    else: \n",
    "        ra_constraint = f'RA between {ra_min} and {ra_max}'\n",
    "\n",
    "    dec_constraint = f'DEC between {dec_min} and {dec_max}'\n",
    "\n",
    "    sql_constraint = ra_constraint + ' AND ' + dec_constraint\n",
    "    return(sql_constraint)\n",
    "    # return(f'RA between {ra_min} and {ra_max} AND DEC between {dec_min} and {dec_max}')"
   ]
  },
  {
   "cell_type": "code",
   "execution_count": 49,
   "metadata": {},
   "outputs": [
    {
     "name": "stdout",
     "output_type": "stream",
     "text": [
      "RA between 201.4662129040896 and 203.52938438629218 AND DEC between 46.52557178225933 and 47.92628278338335\n"
     ]
    }
   ],
   "source": [
    "print(get_sql_box(coords, box_deg))"
   ]
  },
  {
   "cell_type": "code",
   "execution_count": 74,
   "metadata": {},
   "outputs": [
    {
     "name": "stdout",
     "output_type": "stream",
     "text": [
      "Box original: 01 24 03\n",
      "Box in degrees: 1.4008333333333332 deg\n",
      "RA between 201.45267130343717 and 203.51566269656286 AND DEC between 46.53013933333333 and 47.93097266666667\n",
      "RA between 0 and 360 AND DEC between 88.83013933333334 and 90\n",
      "(RA >= 359.74235577487804 OR RA <= 1.2259782251219886) AND DEC between 18.530139333333334 and 19.930972666666666\n",
      "(RA >= 359.08375033333334 OR RA <= 0.48458366666670827) AND DEC between -0.7004166666666666 and 0.7004166666666666\n",
      "RA between 0 and 360 AND DEC between 88.999949999 and 90\n"
     ]
    }
   ],
   "source": [
    "box = '01 24 03' # Define box\n",
    "box_deg = box.split(' ')\n",
    "box_deg = [float(i) for i in box_deg]\n",
    "box_deg = box_deg[0] *u.deg + box_deg[1] *u.arcmin + box_deg[2] *u.arcsecond\n",
    "print('Box original:', box)\n",
    "print('Box in degrees:', box_deg)\n",
    "\n",
    "print(wdb_sql_box(coords, box_deg))\n",
    "\n",
    "ra = 202.484167 *u.deg\n",
    "dec = 89.530556 *u.deg\n",
    "coordspole = coordinates.SkyCoord(ra, dec, frame='icrs')\n",
    "print(wdb_sql_box(coordspole, box_deg))\n",
    "\n",
    "ra = 0.484167 *u.deg\n",
    "dec = 19.230556 *u.deg\n",
    "coordsra0 = coordinates.SkyCoord(ra, dec, frame='icrs')\n",
    "print(wdb_sql_box(coordsra0, box_deg))\n",
    "\n",
    "ra = 359.784167 *u.deg\n",
    "dec = 0 *u.deg\n",
    "coordsra0 = coordinates.SkyCoord(ra, dec, frame='icrs')\n",
    "print(wdb_sql_box(coordsra0, box_deg))\n",
    "\n",
    "box_deg = 1.0001*u.deg\n",
    "coords89 = coordinates.SkyCoord(10*u.deg, 89.499999999*u.deg, frame='icrs')\n",
    "print(wdb_sql_box(coords89, box_deg))\n"
   ]
  },
  {
   "cell_type": "code",
   "execution_count": 75,
   "metadata": {},
   "outputs": [
    {
     "name": "stdout",
     "output_type": "stream",
     "text": [
      "RA between 0 and 360 AND DEC between -90 and -88.5\n"
     ]
    }
   ],
   "source": [
    "# Crossing the pole\n",
    "print(wdb_sql_box(coordinates.SkyCoord(0*u.deg,-89.5*u.deg, frame='icrs'), box_deg=2*u.deg))"
   ]
  }
 ],
 "metadata": {
  "kernelspec": {
   "display_name": "Python 3 (ipykernel)",
   "language": "python",
   "name": "python3"
  },
  "language_info": {
   "codemirror_mode": {
    "name": "ipython",
    "version": 3
   },
   "file_extension": ".py",
   "mimetype": "text/x-python",
   "name": "python",
   "nbconvert_exporter": "python",
   "pygments_lexer": "ipython3",
   "version": "3.12.4"
  }
 },
 "nbformat": 4,
 "nbformat_minor": 4
}
