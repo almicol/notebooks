{
 "cells": [
  {
   "cell_type": "code",
   "execution_count": 11,
   "metadata": {},
   "outputs": [],
   "source": [
    "import astropy.units as u\n",
    "import math\n",
    "from astropy import coordinates"
   ]
  },
  {
   "cell_type": "code",
   "execution_count": 2,
   "metadata": {},
   "outputs": [
    {
     "data": {
      "text/plain": [
       "<SkyCoord (ICRS): (ra, dec) in deg\n",
       "    (202.484167, 47.230556)>"
      ]
     },
     "execution_count": 2,
     "metadata": {},
     "output_type": "execute_result"
    }
   ],
   "source": [
    "# Position of M51 - https://ned.ipac.caltech.edu/byname?objname=M51&hconst=67.8&omegam=0.308&omegav=0.692&wmap=4&corr_z=1\n",
    "ra = 202.484167 *u.deg\n",
    "dec = 47.230556 *u.deg\n",
    "coords = coordinates.SkyCoord(ra, dec, frame='icrs')\n",
    "coords"
   ]
  },
  {
   "cell_type": "code",
   "execution_count": 3,
   "metadata": {},
   "outputs": [
    {
     "data": {
      "text/plain": [
       "'13h29m56.20008s +47d13m50.0016s'"
      ]
     },
     "execution_count": 3,
     "metadata": {},
     "output_type": "execute_result"
    }
   ],
   "source": [
    "coords.to_string('hmsdms') # Print string in hmsdms format"
   ]
  },
  {
   "cell_type": "code",
   "execution_count": 4,
   "metadata": {},
   "outputs": [
    {
     "data": {
      "text/plain": [
       "(202.484167, 47.230556)"
      ]
     },
     "execution_count": 4,
     "metadata": {},
     "output_type": "execute_result"
    }
   ],
   "source": [
    "coords.ra.value, coords.dec.value # Print as floats"
   ]
  },
  {
   "cell_type": "code",
   "execution_count": 5,
   "metadata": {},
   "outputs": [
    {
     "data": {
      "text/plain": [
       "<SkyCoord (FK5: equinox=J2000.000): (ra, dec) in deg\n",
       "    (202.48416679, 47.23055578)>"
      ]
     },
     "execution_count": 5,
     "metadata": {},
     "output_type": "execute_result"
    }
   ],
   "source": [
    "coords.fk5 # Print in FK5 format"
   ]
  },
  {
   "cell_type": "code",
   "execution_count": 6,
   "metadata": {},
   "outputs": [
    {
     "data": {
      "text/plain": [
       "<SkyCoord (Galactic): (l, b) in deg\n",
       "    (104.86604847, 68.52442261)>"
      ]
     },
     "execution_count": 6,
     "metadata": {},
     "output_type": "execute_result"
    }
   ],
   "source": [
    "coords.galactic # Print in Galactic format"
   ]
  },
  {
   "cell_type": "code",
   "execution_count": 7,
   "metadata": {},
   "outputs": [
    {
     "name": "stdout",
     "output_type": "stream",
     "text": [
      "Box original: 01 24 03\n",
      "Box in degrees: 1.4008333333333332 deg\n"
     ]
    }
   ],
   "source": [
    "box = '01 24 03' # Define box\n",
    "box_deg = box.split(' ')\n",
    "box_deg = [float(i) for i in box_deg]\n",
    "box_deg = box_deg[0] *u.deg + box_deg[1] *u.arcmin + box_deg[2] *u.arcsecond\n",
    "print('Box original:', box)\n",
    "print('Box in degrees:', box_deg)"
   ]
  },
  {
   "cell_type": "code",
   "execution_count": 24,
   "metadata": {},
   "outputs": [],
   "source": [
    "def get_sql_box(coords, box_deg):\n",
    "    # Convert to width and height\n",
    "    width = box_deg/2    # *math.cos(coords.dec.value)\n",
    "    height = box_deg/2\n",
    "\n",
    "    coords_min = coords.spherical_offsets_by(-width, -height)\n",
    "    coords_max = coords.spherical_offsets_by(width, height)\n",
    "\n",
    "    ra_min = coords_min.ra.value\n",
    "    dec_min = coords_min.dec.value\n",
    "    ra_max = coords_max.ra.value\n",
    "    dec_max = coords_max.dec.value\n",
    "\n",
    "    return(f'RA between {ra_min} and {ra_max} AND DEC between {dec_min} and {dec_max}') #something like this..."
   ]
  },
  {
   "cell_type": "code",
   "execution_count": 25,
   "metadata": {},
   "outputs": [
    {
     "name": "stdout",
     "output_type": "stream",
     "text": [
      "RA between 201.4662129040896 and 203.52938438629218 AND DEC between 46.52557178225933 and 47.92628278338334\n"
     ]
    }
   ],
   "source": [
    "print(get_sql_box(coords, box_deg))"
   ]
  },
  {
   "cell_type": "code",
   "execution_count": 26,
   "metadata": {},
   "outputs": [
    {
     "name": "stdout",
     "output_type": "stream",
     "text": [
      "RA between 243.42709473165604 and 33.6890603953491 AND DEC between -88.88204547957989 and -88.19724548477473\n"
     ]
    }
   ],
   "source": [
    "# Crossing the pole\n",
    "print(get_sql_box(coordinates.SkyCoord(0*u.deg,-89.5*u.deg, frame='icrs'), box_deg=2*u.deg))"
   ]
  }
 ],
 "metadata": {
  "kernelspec": {
   "display_name": "Python 3 (ipykernel)",
   "language": "python",
   "name": "python3"
  },
  "language_info": {
   "codemirror_mode": {
    "name": "ipython",
    "version": 3
   },
   "file_extension": ".py",
   "mimetype": "text/x-python",
   "name": "python",
   "nbconvert_exporter": "python",
   "pygments_lexer": "ipython3",
   "version": "3.8.13"
  }
 },
 "nbformat": 4,
 "nbformat_minor": 2
}
